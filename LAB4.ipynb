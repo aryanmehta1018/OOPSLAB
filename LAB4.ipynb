{
 "cells": [
  {
   "cell_type": "code",
   "execution_count": 27,
   "id": "f9af08a9-a34a-41d8-964d-b9a39ea0c549",
   "metadata": {},
   "outputs": [
    {
     "name": "stdin",
     "output_type": "stream",
     "text": [
      "Enter a number: 175\n",
      "Enter the number of its digits: 3\n"
     ]
    },
    {
     "name": "stdout",
     "output_type": "stream",
     "text": [
      "It is a disarium number\n"
     ]
    }
   ],
   "source": [
    "n=int(input(\"Enter a number:\"))\n",
    "i=int(input(\"Enter the number of its digits:\"))\n",
    "old=n\n",
    "new=0\n",
    "while(n!=0):\n",
    "    rem=n%10\n",
    "    new=new+(rem)**i\n",
    "    i-=1\n",
    "    n=n//10\n",
    "\n",
    "if new==old:\n",
    "    print(\"It is a disarium number\")\n",
    "else:\n",
    "    print(\"Not a disarium number\")"
   ]
  },
  {
   "cell_type": "code",
   "execution_count": 25,
   "id": "8837d36e-af84-4d43-a141-13c59edfc098",
   "metadata": {},
   "outputs": [
    {
     "name": "stdin",
     "output_type": "stream",
     "text": [
      "Enter number: 111\n"
     ]
    },
    {
     "name": "stdout",
     "output_type": "stream",
     "text": [
      "It is a harshad number\n"
     ]
    }
   ],
   "source": [
    "n=int(input(\"Enter number:\"))\n",
    "sum=0\n",
    "old=n\n",
    "while(n!=0):\n",
    "    rem=n%10\n",
    "    sum=sum+rem\n",
    "    n=n//10\n",
    "if (old%sum==0):\n",
    "    print(\"It is a harshad number\")\n",
    "else:\n",
    "    print(\"Not a harshad number\")"
   ]
  },
  {
   "cell_type": "code",
   "execution_count": 31,
   "id": "84dacd39-ab58-4fc9-a249-6ac48ef2d154",
   "metadata": {},
   "outputs": [
    {
     "name": "stdout",
     "output_type": "stream",
     "text": [
      "1  \n",
      "153  \n",
      "370  \n",
      "371  \n",
      "407  \n"
     ]
    }
   ],
   "source": [
    "for n in range(1,1000):\n",
    "    sum=0\n",
    "    old=n\n",
    "    while(n!=0):\n",
    "        rem=n%10\n",
    "        sum=sum+rem**3\n",
    "        n=n//10\n",
    "    if(old==sum):\n",
    "        print(old,\" \")\n",
    "    "
   ]
  },
  {
   "cell_type": "code",
   "execution_count": 35,
   "id": "6564dea0-e83d-4cd5-ac17-c5779ef43b3f",
   "metadata": {},
   "outputs": [
    {
     "name": "stdin",
     "output_type": "stream",
     "text": [
      "Enter a number: 2\n",
      "Enter the power to be raised: 3\n"
     ]
    },
    {
     "name": "stdout",
     "output_type": "stream",
     "text": [
      "The output is: 8\n"
     ]
    }
   ],
   "source": [
    "x=int(input(\"Enter a number:\"))\n",
    "n=int(input(\"Enter the power to be raised:\"))\n",
    "new=1\n",
    "for i in range(0,n):\n",
    "    if n==0:\n",
    "        print(\"The output is:\",1)\n",
    "        break\n",
    "    else:\n",
    "        new=new*x\n",
    "print(\"The output is:\",new)\n",
    "        "
   ]
  },
  {
   "cell_type": "code",
   "execution_count": 37,
   "id": "db21d040-606b-4bde-a2dc-529cdbf19a14",
   "metadata": {},
   "outputs": [
    {
     "name": "stdin",
     "output_type": "stream",
     "text": [
      "Enter the value of n: 5\n",
      "Enter the value of x: 4\n"
     ]
    },
    {
     "name": "stdout",
     "output_type": "stream",
     "text": [
      "5.0\n"
     ]
    }
   ],
   "source": [
    "def fact(a):\n",
    "    if (a>=1):\n",
    "        return a*fact(a-1)\n",
    "    else:\n",
    "        return 1\n",
    "n=int(input(\"Enter the value of n:\"))\n",
    "x=int(input(\"Enter the value of x:\"))\n",
    "new=fact(n)/(fact(x) * fact(n-x))\n",
    "print(new)"
   ]
  },
  {
   "cell_type": "code",
   "execution_count": 43,
   "id": "1d7d076c-e6b1-4ba3-9f77-0c8596ce7cf0",
   "metadata": {},
   "outputs": [
    {
     "name": "stdin",
     "output_type": "stream",
     "text": [
      "Enter the number of digits in the series: 5\n"
     ]
    },
    {
     "name": "stdout",
     "output_type": "stream",
     "text": [
      "The Fibonacci series :\n",
      "0\n",
      "1\n",
      "1\n",
      "2\n",
      "3\n"
     ]
    }
   ],
   "source": [
    "n=int(input(\"Enter the number of digits in the series:\"))\n",
    "t1=0\n",
    "t2=1\n",
    "count=0\n",
    "if n<=0:\n",
    "    print(\"Enter a positive integer\")\n",
    "elif n==1:\n",
    "    print(\"The Fibonacci series: \",t1)\n",
    "else:\n",
    "    print(\"The Fibonacci series :\")\n",
    "    while (count<n):\n",
    "        print(t1)\n",
    "        nxt=t1+t2\n",
    "        t1=t2\n",
    "        t2=nxt\n",
    "        count+=1\n"
   ]
  },
  {
   "cell_type": "code",
   "execution_count": 45,
   "id": "ea0e1b1c-1c22-46e4-bf04-8daa7ca36786",
   "metadata": {},
   "outputs": [
    {
     "name": "stdin",
     "output_type": "stream",
     "text": [
      "Enter number: 153\n"
     ]
    },
    {
     "name": "stdout",
     "output_type": "stream",
     "text": [
      "The sum of digits in the entered number is : 9\n"
     ]
    }
   ],
   "source": [
    "n=int(input(\"Enter number:\"))\n",
    "sum=0\n",
    "old=n\n",
    "while(n!=0):\n",
    "    rem=n%10\n",
    "    sum+=rem\n",
    "    n//=10\n",
    "print(\"The sum of digits in the entered number is :\",sum)"
   ]
  },
  {
   "cell_type": "code",
   "execution_count": 47,
   "id": "16bd5933-f7da-40ad-bda8-e086051fb365",
   "metadata": {},
   "outputs": [
    {
     "name": "stdin",
     "output_type": "stream",
     "text": [
      "Enter number: 153\n"
     ]
    },
    {
     "name": "stdout",
     "output_type": "stream",
     "text": [
      "The reverse of the number is : 351\n"
     ]
    }
   ],
   "source": [
    "n=int(input(\"Enter number:\"))\n",
    "rev=0\n",
    "old=n\n",
    "while(n!=0):\n",
    "    rem=n%10\n",
    "    rev=rev*10+rem\n",
    "    n//=10\n",
    "print(\"The reverse of the number is :\",rev)"
   ]
  },
  {
   "cell_type": "code",
   "execution_count": 65,
   "id": "76ff1584-5625-4129-acb4-d0a7e13b035a",
   "metadata": {},
   "outputs": [
    {
     "name": "stdin",
     "output_type": "stream",
     "text": [
      "Enter number: 496\n"
     ]
    },
    {
     "name": "stdout",
     "output_type": "stream",
     "text": [
      "It is a perfect number\n"
     ]
    }
   ],
   "source": [
    "n=int(input(\"Enter number:\"))\n",
    "sum=0\n",
    "for i in range(1,int(n/2)+1):\n",
    "    if n%i==0:\n",
    "        sum=sum+i\n",
    "    \n",
    "if sum==n:\n",
    "    print(\"It is a perfect number\")\n",
    "else:\n",
    "    print(\"It is not a perfect number\")"
   ]
  },
  {
   "cell_type": "code",
   "execution_count": 69,
   "id": "92ac61d8-b416-42fb-9986-f3955f3e6b5f",
   "metadata": {},
   "outputs": [
    {
     "name": "stdin",
     "output_type": "stream",
     "text": [
      "Enter number: 161\n"
     ]
    },
    {
     "name": "stdout",
     "output_type": "stream",
     "text": [
      "It is a pallindrome\n"
     ]
    }
   ],
   "source": [
    "n=int(input(\"Enter number:\"))\n",
    "rev=0\n",
    "old=n\n",
    "while(n!=0):\n",
    "    rem=n%10\n",
    "    rev=rev*10+rem\n",
    "    n//=10\n",
    "if rev==old:\n",
    "    print(\"It is a pallindrome\")\n",
    "else:\n",
    "    print(\"Not a pallindrome\")"
   ]
  },
  {
   "cell_type": "code",
   "execution_count": 3,
   "id": "b193dccb-26dd-428b-b783-7b3947e3e35c",
   "metadata": {},
   "outputs": [
    {
     "name": "stdout",
     "output_type": "stream",
     "text": [
      "1 \n",
      "1 2 \n",
      "1 2 3 \n",
      "1 2 3 4 \n",
      "1 2 3 4 5 \n"
     ]
    }
   ],
   "source": [
    "rows = 5\n",
    "for i in range(1, rows+1):\n",
    "    for j in range(1, i + 1):\n",
    "        print(j, end=\" \")\n",
    "\n",
    "    print()\n"
   ]
  },
  {
   "cell_type": "code",
   "execution_count": 5,
   "id": "3ba2123f-57b9-48c8-be80-bf3b52cd9b4b",
   "metadata": {},
   "outputs": [
    {
     "name": "stdout",
     "output_type": "stream",
     "text": [
      "\n",
      "1 \n",
      "2 2 \n",
      "3 3 3 \n",
      "4 4 4 4 \n",
      "5 5 5 5 5 \n"
     ]
    }
   ],
   "source": [
    "rows = 5\n",
    "for num in range(rows+1):\n",
    "    for i in range(num):\n",
    "        print(num, end=\" \")\n",
    "    print()\n"
   ]
  },
  {
   "cell_type": "code",
   "execution_count": 7,
   "id": "54adf28d-37d4-467a-957f-06deb9cb14b9",
   "metadata": {},
   "outputs": [
    {
     "name": "stdout",
     "output_type": "stream",
     "text": [
      "A \n",
      "B B \n",
      "C C C \n",
      "D D D D \n",
      "E E E E E \n"
     ]
    }
   ],
   "source": [
    "rows = 5\n",
    "ascii_value = 65\n",
    "for i in range(rows):\n",
    "    for j in range(i+1):\n",
    "        alphabet = chr(ascii_value)\n",
    "        print(alphabet, end=\" \")\n",
    "    ascii_value += 1\n",
    "    print()\n"
   ]
  },
  {
   "cell_type": "code",
   "execution_count": 9,
   "id": "6c9149cd-0751-4aa7-82de-d7aada6cca80",
   "metadata": {},
   "outputs": [
    {
     "name": "stdout",
     "output_type": "stream",
     "text": [
      "*  *  *  *  *  \n",
      "*  *  *  *  \n",
      "*  *  *  \n",
      "*  *  \n",
      "*  \n",
      "\n"
     ]
    }
   ],
   "source": [
    "rows = 5\n",
    "for i in range(rows + 1, 0, -1):\n",
    "    for j in range(0, i - 1):\n",
    "        print(\"* \", end=\" \")\n",
    "    print()"
   ]
  },
  {
   "cell_type": "code",
   "execution_count": 13,
   "id": "76e4b969-2d41-4793-a5c6-32fa601cf393",
   "metadata": {},
   "outputs": [
    {
     "name": "stdout",
     "output_type": "stream",
     "text": [
      "1 2 3 4 5 \n",
      "1 2 3 4 \n",
      "1 2 3 \n",
      "1 2 \n",
      "1 \n"
     ]
    }
   ],
   "source": [
    "rows = 5\n",
    "for i in range(rows,0,-1):\n",
    "    for j in range(1, i + 1):\n",
    "        print(j, end=\" \")\n",
    "    print()\n"
   ]
  },
  {
   "cell_type": "code",
   "execution_count": 15,
   "id": "96fd6935-89d7-4ef9-bbf8-b1c5e0270f66",
   "metadata": {},
   "outputs": [
    {
     "name": "stdout",
     "output_type": "stream",
     "text": [
      "        * \n",
      "       * * \n",
      "      * * * \n",
      "     * * * * \n",
      "    * * * * * \n"
     ]
    }
   ],
   "source": [
    "rows = 5\n",
    "m = (2*rows)-2\n",
    "for i in range(0, rows):\n",
    "    for j in range(0, m):\n",
    "        print(end=\" \")\n",
    "    m -= 1\n",
    "    for j in range(0, i+1):\n",
    "        print(\"*\",end=\" \")\n",
    "    print()\n"
   ]
  },
  {
   "cell_type": "code",
   "execution_count": 23,
   "id": "626c8ad7-2499-4e18-88b1-6dda26e9bc26",
   "metadata": {},
   "outputs": [
    {
     "name": "stdout",
     "output_type": "stream",
     "text": [
      "        1 \n",
      "      2 3 2 \n",
      "    3 4 5 4 3 \n",
      "  4 5 6 7 6 5 4 \n",
      "5 6 7 8 9 8 7 6 5 \n"
     ]
    }
   ],
   "source": [
    "rows = 5\n",
    "k = 0\n",
    "count=0\n",
    "count1=0\n",
    "for i in range(1, rows+1):\n",
    "    for space in range(1, (rows-i)+1):\n",
    "        print(\"  \", end=\"\")\n",
    "        count+=1\n",
    "    while k!=((2*i)-1):\n",
    "        if count<=rows-1:\n",
    "            print(i+k, end=\" \")\n",
    "            count+=1\n",
    "        else:\n",
    "            count1+=1\n",
    "            print(i+k-(2*count1), end=\" \")\n",
    "        k += 1\n",
    "    count1 = count = k = 0\n",
    "    print()\n"
   ]
  },
  {
   "cell_type": "code",
   "execution_count": 25,
   "id": "8193c869-f472-4046-bbae-688b9ffd2562",
   "metadata": {},
   "outputs": [
    {
     "name": "stdout",
     "output_type": "stream",
     "text": [
      "        * * * * * \n",
      "         * * * * \n",
      "          * * * \n",
      "           * * \n",
      "            * \n"
     ]
    }
   ],
   "source": [
    "rows = 5\n",
    "m = (2*rows)-2\n",
    "for i in range(rows-1,-1,-1):\n",
    "    for j in range(m,0,-1):\n",
    "        print(end=\" \")\n",
    "    m += 1\n",
    "    for j in range(0, i+1):\n",
    "        print(\"*\",end=\" \")\n",
    "    print()\n"
   ]
  },
  {
   "cell_type": "code",
   "execution_count": 27,
   "id": "9817b78f-8945-4b7f-b503-233a8fde6d66",
   "metadata": {},
   "outputs": [
    {
     "name": "stdout",
     "output_type": "stream",
     "text": [
      "     1 \n",
      "    1 1 \n",
      "   1 2 1 \n",
      "  1 3 3 1 \n",
      " 1 4 6 4 1 \n",
      "1 5 10 10 5 1 \n"
     ]
    }
   ],
   "source": [
    "rows = 6\n",
    "coef = 1\n",
    "for i in range(1, rows+1):\n",
    "    for space in range(1, rows-i+1):\n",
    "        print(\" \",end=\"\")\n",
    "    for j in range(0, i):\n",
    "        if j==0 or i==0:\n",
    "            coef = 1\n",
    "        else:\n",
    "            coef = coef * (i - j)//j\n",
    "        print(coef, end = \" \")\n",
    "    print()\n"
   ]
  },
  {
   "cell_type": "code",
   "execution_count": 35,
   "id": "c33cf7ff-cb93-4aeb-bb23-b2af554dfe5b",
   "metadata": {},
   "outputs": [
    {
     "name": "stdout",
     "output_type": "stream",
     "text": [
      "1 \n",
      "2 3 \n",
      "4 5 6 \n",
      "7 8 9 10 \n"
     ]
    }
   ],
   "source": [
    "rows = 4\n",
    "num = 1\n",
    "stop = 2\n",
    "#Outer for loop to handle number of rows\n",
    "for i in range(rows):\n",
    "#Inner for loop to handle number of columns\n",
    "#values change according to the outer loop\n",
    "    for j in range(1, stop):\n",
    "        print(num, end=\" \")\n",
    "        num += 1\n",
    "#End line after each row\n",
    "    print()\n",
    "    stop += 1"
   ]
  },
  {
   "cell_type": "code",
   "execution_count": null,
   "id": "cc0b912c-814d-4642-be8f-bcf7e9e33f7f",
   "metadata": {},
   "outputs": [],
   "source": []
  }
 ],
 "metadata": {
  "kernelspec": {
   "display_name": "Python 3 (ipykernel)",
   "language": "python",
   "name": "python3"
  },
  "language_info": {
   "codemirror_mode": {
    "name": "ipython",
    "version": 3
   },
   "file_extension": ".py",
   "mimetype": "text/x-python",
   "name": "python",
   "nbconvert_exporter": "python",
   "pygments_lexer": "ipython3",
   "version": "3.12.4"
  }
 },
 "nbformat": 4,
 "nbformat_minor": 5
}
