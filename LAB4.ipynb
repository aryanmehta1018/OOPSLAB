{
 "cells": [
  {
   "cell_type": "code",
   "execution_count": 27,
   "id": "f9af08a9-a34a-41d8-964d-b9a39ea0c549",
   "metadata": {},
   "outputs": [
    {
     "name": "stdin",
     "output_type": "stream",
     "text": [
      "Enter a number: 175\n",
      "Enter the number of its digits: 3\n"
     ]
    },
    {
     "name": "stdout",
     "output_type": "stream",
     "text": [
      "It is a disarium number\n"
     ]
    }
   ],
   "source": [
    "n=int(input(\"Enter a number:\"))\n",
    "i=int(input(\"Enter the number of its digits:\"))\n",
    "old=n\n",
    "new=0\n",
    "while(n!=0):\n",
    "    rem=n%10\n",
    "    new=new+(rem)**i\n",
    "    i-=1\n",
    "    n=n//10\n",
    "\n",
    "if new==old:\n",
    "    print(\"It is a disarium number\")\n",
    "else:\n",
    "    print(\"Not a disarium number\")"
   ]
  },
  {
   "cell_type": "code",
   "execution_count": 25,
   "id": "8837d36e-af84-4d43-a141-13c59edfc098",
   "metadata": {},
   "outputs": [
    {
     "name": "stdin",
     "output_type": "stream",
     "text": [
      "Enter number: 111\n"
     ]
    },
    {
     "name": "stdout",
     "output_type": "stream",
     "text": [
      "It is a harshad number\n"
     ]
    }
   ],
   "source": [
    "n=int(input(\"Enter number:\"))\n",
    "sum=0\n",
    "old=n\n",
    "while(n!=0):\n",
    "    rem=n%10\n",
    "    sum=sum+rem\n",
    "    n=n//10\n",
    "if (old%sum==0):\n",
    "    print(\"It is a harshad number\")\n",
    "else:\n",
    "    print(\"Not a harshad number\")"
   ]
  },
  {
   "cell_type": "code",
   "execution_count": 31,
   "id": "84dacd39-ab58-4fc9-a249-6ac48ef2d154",
   "metadata": {},
   "outputs": [
    {
     "name": "stdout",
     "output_type": "stream",
     "text": [
      "1  \n",
      "153  \n",
      "370  \n",
      "371  \n",
      "407  \n"
     ]
    }
   ],
   "source": [
    "for n in range(1,1000):\n",
    "    sum=0\n",
    "    old=n\n",
    "    while(n!=0):\n",
    "        rem=n%10\n",
    "        sum=sum+rem**3\n",
    "        n=n//10\n",
    "    if(old==sum):\n",
    "        print(old,\" \")\n",
    "    "
   ]
  },
  {
   "cell_type": "code",
   "execution_count": 35,
   "id": "6564dea0-e83d-4cd5-ac17-c5779ef43b3f",
   "metadata": {},
   "outputs": [
    {
     "name": "stdin",
     "output_type": "stream",
     "text": [
      "Enter a number: 2\n",
      "Enter the power to be raised: 3\n"
     ]
    },
    {
     "name": "stdout",
     "output_type": "stream",
     "text": [
      "The output is: 8\n"
     ]
    }
   ],
   "source": [
    "x=int(input(\"Enter a number:\"))\n",
    "n=int(input(\"Enter the power to be raised:\"))\n",
    "new=1\n",
    "for i in range(0,n):\n",
    "    if n==0:\n",
    "        print(\"The output is:\",1)\n",
    "        break\n",
    "    else:\n",
    "        new=new*x\n",
    "print(\"The output is:\",new)\n",
    "        "
   ]
  },
  {
   "cell_type": "code",
   "execution_count": 37,
   "id": "db21d040-606b-4bde-a2dc-529cdbf19a14",
   "metadata": {},
   "outputs": [
    {
     "name": "stdin",
     "output_type": "stream",
     "text": [
      "Enter the value of n: 5\n",
      "Enter the value of x: 4\n"
     ]
    },
    {
     "name": "stdout",
     "output_type": "stream",
     "text": [
      "5.0\n"
     ]
    }
   ],
   "source": [
    "def fact(a):\n",
    "    if (a>=1):\n",
    "        return a*fact(a-1)\n",
    "    else:\n",
    "        return 1\n",
    "n=int(input(\"Enter the value of n:\"))\n",
    "x=int(input(\"Enter the value of x:\"))\n",
    "new=fact(n)/(fact(x) * fact(n-x))\n",
    "print(new)"
   ]
  },
  {
   "cell_type": "code",
   "execution_count": 43,
   "id": "1d7d076c-e6b1-4ba3-9f77-0c8596ce7cf0",
   "metadata": {},
   "outputs": [
    {
     "name": "stdin",
     "output_type": "stream",
     "text": [
      "Enter the number of digits in the series: 5\n"
     ]
    },
    {
     "name": "stdout",
     "output_type": "stream",
     "text": [
      "The Fibonacci series :\n",
      "0\n",
      "1\n",
      "1\n",
      "2\n",
      "3\n"
     ]
    }
   ],
   "source": [
    "n=int(input(\"Enter the number of digits in the series:\"))\n",
    "t1=0\n",
    "t2=1\n",
    "count=0\n",
    "if n<=0:\n",
    "    print(\"Enter a positive integer\")\n",
    "elif n==1:\n",
    "    print(\"The Fibonacci series: \",t1)\n",
    "else:\n",
    "    print(\"The Fibonacci series :\")\n",
    "    while (count<n):\n",
    "        print(t1)\n",
    "        nxt=t1+t2\n",
    "        t1=t2\n",
    "        t2=nxt\n",
    "        count+=1\n"
   ]
  },
  {
   "cell_type": "code",
   "execution_count": 45,
   "id": "ea0e1b1c-1c22-46e4-bf04-8daa7ca36786",
   "metadata": {},
   "outputs": [
    {
     "name": "stdin",
     "output_type": "stream",
     "text": [
      "Enter number: 153\n"
     ]
    },
    {
     "name": "stdout",
     "output_type": "stream",
     "text": [
      "The sum of digits in the entered number is : 9\n"
     ]
    }
   ],
   "source": [
    "n=int(input(\"Enter number:\"))\n",
    "sum=0\n",
    "old=n\n",
    "while(n!=0):\n",
    "    rem=n%10\n",
    "    sum+=rem\n",
    "    n//=10\n",
    "print(\"The sum of digits in the entered number is :\",sum)"
   ]
  },
  {
   "cell_type": "code",
   "execution_count": 47,
   "id": "16bd5933-f7da-40ad-bda8-e086051fb365",
   "metadata": {},
   "outputs": [
    {
     "name": "stdin",
     "output_type": "stream",
     "text": [
      "Enter number: 153\n"
     ]
    },
    {
     "name": "stdout",
     "output_type": "stream",
     "text": [
      "The reverse of the number is : 351\n"
     ]
    }
   ],
   "source": [
    "n=int(input(\"Enter number:\"))\n",
    "rev=0\n",
    "old=n\n",
    "while(n!=0):\n",
    "    rem=n%10\n",
    "    rev=rev*10+rem\n",
    "    n//=10\n",
    "print(\"The reverse of the number is :\",rev)"
   ]
  },
  {
   "cell_type": "code",
   "execution_count": 65,
   "id": "76ff1584-5625-4129-acb4-d0a7e13b035a",
   "metadata": {},
   "outputs": [
    {
     "name": "stdin",
     "output_type": "stream",
     "text": [
      "Enter number: 496\n"
     ]
    },
    {
     "name": "stdout",
     "output_type": "stream",
     "text": [
      "It is a perfect number\n"
     ]
    }
   ],
   "source": [
    "n=int(input(\"Enter number:\"))\n",
    "sum=0\n",
    "for i in range(1,int(n/2)+1):\n",
    "    if n%i==0:\n",
    "        sum=sum+i\n",
    "    \n",
    "if sum==n:\n",
    "    print(\"It is a perfect number\")\n",
    "else:\n",
    "    print(\"It is not a perfect number\")"
   ]
  },
  {
   "cell_type": "code",
   "execution_count": 69,
   "id": "92ac61d8-b416-42fb-9986-f3955f3e6b5f",
   "metadata": {},
   "outputs": [
    {
     "name": "stdin",
     "output_type": "stream",
     "text": [
      "Enter number: 161\n"
     ]
    },
    {
     "name": "stdout",
     "output_type": "stream",
     "text": [
      "It is a pallindrome\n"
     ]
    }
   ],
   "source": [
    "n=int(input(\"Enter number:\"))\n",
    "rev=0\n",
    "old=n\n",
    "while(n!=0):\n",
    "    rem=n%10\n",
    "    rev=rev*10+rem\n",
    "    n//=10\n",
    "if rev==old:\n",
    "    print(\"It is a pallindrome\")\n",
    "else:\n",
    "    print(\"Not a pallindrome\")"
   ]
  },
  {
   "cell_type": "code",
   "execution_count": null,
   "id": "b193dccb-26dd-428b-b783-7b3947e3e35c",
   "metadata": {},
   "outputs": [],
   "source": []
  }
 ],
 "metadata": {
  "kernelspec": {
   "display_name": "Python 3 (ipykernel)",
   "language": "python",
   "name": "python3"
  },
  "language_info": {
   "codemirror_mode": {
    "name": "ipython",
    "version": 3
   },
   "file_extension": ".py",
   "mimetype": "text/x-python",
   "name": "python",
   "nbconvert_exporter": "python",
   "pygments_lexer": "ipython3",
   "version": "3.12.4"
  }
 },
 "nbformat": 4,
 "nbformat_minor": 5
}
