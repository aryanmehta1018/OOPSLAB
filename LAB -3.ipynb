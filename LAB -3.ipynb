{
 "cells": [
  {
   "cell_type": "code",
   "execution_count": null,
   "id": "0037b211",
   "metadata": {},
   "outputs": [],
   "source": []
  },
  {
   "cell_type": "code",
   "execution_count": 1,
   "id": "e88611d4",
   "metadata": {},
   "outputs": [
    {
     "name": "stdout",
     "output_type": "stream",
     "text": [
      "Enter a number: 56\n",
      "It is not a Palindorme number\n"
     ]
    }
   ],
   "source": [
    "#Check if a number is palindrome or not \n",
    "string = input(\"Enter a number: \")\n",
    "\n",
    "rev_string = string[::-1]\n",
    "\n",
    "if string == rev_string:\n",
    "    print(\"It is a palindrome number\")\n",
    "else :\n",
    "    print(\"It is not a Palindorme number\")"
   ]
  },
  {
   "cell_type": "code",
   "execution_count": null,
   "id": "a7b9b7bc",
   "metadata": {},
   "outputs": [],
   "source": [
    "# Grade of student using percentage\n",
    "scores=[]\n",
    "for i in range(1,6):\n",
    "    x=float(input(\"Enter the Score in each subject :\"))\n",
    "    print(x)\n",
    "    scores.append(x)\n",
    "\n",
    "total =sum(scores)\n",
    "print(\"Your Total score is :\",total)\n",
    "\n",
    "avg = total/5\n",
    "print(\"Your average score is :\",avg)\n",
    "\n",
    "if avg >= 90:\n",
    "    grade = 'A'\n",
    "elif avg >= 80:\n",
    "    grade = 'B'\n",
    "elif avg >= 70:\n",
    "    grade = 'C'\n",
    "elif avg >= 60:\n",
    "    grade = 'D'\n",
    "else:\n",
    "    grade = 'F'\n",
    "print(\"Your grade is\",grade)"
   ]
  },
  {
   "cell_type": "code",
   "execution_count": null,
   "id": "97cd34f4",
   "metadata": {},
   "outputs": [],
   "source": [
    "# Simple Console based Calculator\n",
    "print(\"Select operation:\")\n",
    "print(\"1. Add\")\n",
    "print(\"2. Subtract\")\n",
    "print(\"3. Multiply\")\n",
    "print(\"4. Divide\")\n",
    "\n",
    "while True:\n",
    "    choice = input(\"Enter choice (1/2/3/4): \")\n",
    "\n",
    "    if choice in ['1', '2', '3', '4']:\n",
    "        try:\n",
    "            num1 = float(input(\"Enter first number: \"))\n",
    "            num2 = float(input(\"Enter second number: \"))\n",
    "\n",
    "            if choice == '1':\n",
    "                result = num1 + num2\n",
    "                print(f\"{num1} + {num2} = {result}\")\n",
    "\n",
    "            elif choice == '2':\n",
    "                result = num1 - num2\n",
    "                print(f\"{num1} - {num2} = {result}\")\n",
    "\n",
    "            elif choice == '3':\n",
    "                result = num1 * num2\n",
    "                print(f\"{num1} * {num2} = {result}\")\n",
    "\n",
    "            elif choice == '4':\n",
    "                if num2 != 0:\n",
    "                    result = num1 / num2\n",
    "                    print(f\"{num1} / {num2} = {result}\")\n",
    "                else:\n",
    "                    print(\"Error: Division by zero is not allowed.\")\n",
    "            \n",
    "        except ValueError:\n",
    "            print(\"Invalid input. Please enter numeric values.\")\n",
    "\n",
    "    else:\n",
    "        print(\"Invalid input. Please select a valid operation.\")"
   ]
  },
  {
   "cell_type": "code",
   "execution_count": 2,
   "id": "629f8998",
   "metadata": {},
   "outputs": [
    {
     "name": "stdout",
     "output_type": "stream",
     "text": [
      "Enter the number to check prime: 25\n",
      "Not a prime\n"
     ]
    }
   ],
   "source": [
    "x = int(input(\"Enter the number to check prime: \"))\n",
    "count = 0\n",
    "\n",
    "if x > 1:\n",
    "    for i in range(2, x):\n",
    "        if x % i == 0:\n",
    "            count += 1  # Increment count when i divides x without remainder\n",
    "\n",
    "    if count > 0:\n",
    "        print(\"Not a prime\")\n",
    "    else:\n",
    "        print(\"Prime\")\n",
    "else:\n",
    "    print(\"Not a prime\")\n"
   ]
  },
  {
   "cell_type": "code",
   "execution_count": null,
   "id": "1159f932",
   "metadata": {},
   "outputs": [],
   "source": []
  }
 ],
 "metadata": {
  "kernelspec": {
   "display_name": "Python 3 (ipykernel)",
   "language": "python",
   "name": "python3"
  },
  "language_info": {
   "codemirror_mode": {
    "name": "ipython",
    "version": 3
   },
   "file_extension": ".py",
   "mimetype": "text/x-python",
   "name": "python",
   "nbconvert_exporter": "python",
   "pygments_lexer": "ipython3",
   "version": "3.11.3"
  }
 },
 "nbformat": 4,
 "nbformat_minor": 5
}
