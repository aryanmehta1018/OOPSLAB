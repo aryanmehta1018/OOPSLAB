{
 "cells": [
  {
   "cell_type": "code",
   "execution_count": 1,
   "id": "760328a2",
   "metadata": {},
   "outputs": [
    {
     "name": "stdout",
     "output_type": "stream",
     "text": [
      "Addition (integer + float): 35.5\n",
      "<class 'float'>\n",
      "Subtraction (float - integer): -4.5\n",
      "<class 'float'>\n",
      "Multiplication (integer * 5): 100\n",
      "<class 'int'>\n",
      "Division (float / integer): 0.775\n",
      "<class 'float'>\n"
     ]
    }
   ],
   "source": [
    "# WAP to demonstrate different datatypes and arithematic operations in python \n",
    "\n",
    "integer_value = 20\n",
    "float_value = 15.5\n",
    "\n",
    "addition_result = integer_value + float_value\n",
    "print(\"Addition (integer + float):\", addition_result)\n",
    "print(type(addition_result))\n",
    "\n",
    "subtraction_result = float_value - integer_value\n",
    "print(\"Subtraction (float - integer):\", subtraction_result)\n",
    "print(type(subtraction_result))\n",
    "\n",
    "multiplication_result = integer_value * 5\n",
    "print(\"Multiplication (integer * 5):\", multiplication_result)\n",
    "print(type(multiplication_result))\n",
    "\n",
    "division_result = float_value / integer_value\n",
    "print(\"Division (float / integer):\", division_result)\n",
    "print(type(division_result))"
   ]
  },
  {
   "cell_type": "code",
   "execution_count": 2,
   "id": "a315d08c",
   "metadata": {},
   "outputs": [
    {
     "name": "stdout",
     "output_type": "stream",
     "text": [
      "Enter the first number: 50\n",
      "Enter the second number: 40\n",
      "Number 1: 50.0\n",
      "Number 2: 40.0\n",
      "Average: 45.0\n",
      "Deviation of Number 1 from Average: 5.0\n",
      "Deviation of Number 2 from Average: -5.0\n"
     ]
    }
   ],
   "source": [
    "# WAP to find the average of two numbers and print their deviation\n",
    "number1 = float(input(\"Enter the first number: \"))\n",
    "number2 = float(input(\"Enter the second number: \"))\n",
    "\n",
    "average = (number1 + number2) / 2\n",
    "\n",
    "deviation_num1 = number1 - average\n",
    "deviation_num2 = number2 - average\n",
    "\n",
    "print(f\"Number 1: {number1}\")\n",
    "print(f\"Number 2: {number2}\")\n",
    "print(f\"Average: {average}\")\n",
    "print(f\"Deviation of Number 1 from Average: {deviation_num1}\")\n",
    "print(f\"Deviation of Number 2 from Average: {deviation_num2}\")\n"
   ]
  },
  {
   "cell_type": "code",
   "execution_count": null,
   "id": "7bf3e724",
   "metadata": {},
   "outputs": [],
   "source": []
  }
 ],
 "metadata": {
  "kernelspec": {
   "display_name": "Python 3 (ipykernel)",
   "language": "python",
   "name": "python3"
  },
  "language_info": {
   "codemirror_mode": {
    "name": "ipython",
    "version": 3
   },
   "file_extension": ".py",
   "mimetype": "text/x-python",
   "name": "python",
   "nbconvert_exporter": "python",
   "pygments_lexer": "ipython3",
   "version": "3.11.3"
  }
 },
 "nbformat": 4,
 "nbformat_minor": 5
}
