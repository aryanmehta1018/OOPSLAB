{
 "cells": [
  {
   "cell_type": "code",
   "execution_count": 1,
   "id": "4a4c12e2-50ec-46a7-9086-8b7e0cdc31d9",
   "metadata": {},
   "outputs": [
    {
     "name": "stdout",
     "output_type": "stream",
     "text": [
      "The distance between (3, 4) and (6, 8) is 5.0\n"
     ]
    }
   ],
   "source": [
    "import math\n",
    "\n",
    "def distance(point1, point2):\n",
    "    x1, y1 = point1\n",
    "    x2, y2 = point2\n",
    "    return math.sqrt((x2 - x1) ** 2 + (y2 - y1) ** 2)\n",
    "\n",
    "# Example usage:\n",
    "point_a = (3, 4)\n",
    "point_b = (6, 8)\n",
    "dist = distance(point_a, point_b)\n",
    "print(f\"The distance between {point_a} and {point_b} is {dist}\")\n"
   ]
  },
  {
   "cell_type": "code",
   "execution_count": 5,
   "id": "45e35f7b-f089-46f9-b7cc-b5137951229b",
   "metadata": {},
   "outputs": [
    {
     "name": "stdin",
     "output_type": "stream",
     "text": [
      "Enter a number: 7\n"
     ]
    },
    {
     "name": "stdout",
     "output_type": "stream",
     "text": [
      "The number 7 is Odd.\n"
     ]
    }
   ],
   "source": [
    "def is_even_or_odd(number):\n",
    "    if number % 2 == 0:\n",
    "        return \"Even\"\n",
    "    else:\n",
    "        return \"Odd\"\n",
    "\n",
    "# Example usage:\n",
    "num = int(input(\"Enter a number:\"))\n",
    "result = is_even_or_odd(num)\n",
    "print(f\"The number {num} is {result}.\")\n",
    "\n"
   ]
  },
  {
   "cell_type": "code",
   "execution_count": 7,
   "id": "4abb8538-1d0f-4b4e-80bf-b7c5e8555c95",
   "metadata": {},
   "outputs": [],
   "source": [
    "import a as constant"
   ]
  },
  {
   "cell_type": "code",
   "execution_count": 9,
   "id": "f3a3905b-63ca-4923-81b2-6543e691e129",
   "metadata": {},
   "outputs": [
    {
     "name": "stdin",
     "output_type": "stream",
     "text": [
      "Enter radius: 5\n"
     ]
    },
    {
     "name": "stdout",
     "output_type": "stream",
     "text": [
      "Area: 78.5\n"
     ]
    }
   ],
   "source": [
    "r=int(input(\"Enter radius:\"))\n",
    "print(\"Area:\",constant.pi*r*r)"
   ]
  },
  {
   "cell_type": "code",
   "execution_count": 13,
   "id": "671b94d6-3ca3-43de-ab18-9eaa9a605781",
   "metadata": {},
   "outputs": [
    {
     "name": "stdin",
     "output_type": "stream",
     "text": [
      "Enter the number of inputs: 5\n",
      "Enter the number: 1\n",
      "Enter the number: 2\n",
      "Enter the number: 3\n",
      "Enter the number: 4\n",
      "Enter the number: 5\n"
     ]
    },
    {
     "name": "stdout",
     "output_type": "stream",
     "text": [
      "The sum is : 15\n"
     ]
    }
   ],
   "source": [
    "sum=0\n",
    "n=int(input(\"Enter the number of inputs:\"))\n",
    "for i in range(0,n):\n",
    "    a=int(input(\"Enter the number:\"))\n",
    "    sum=sum+a\n",
    "print(\"The sum is :\",sum)"
   ]
  },
  {
   "cell_type": "code",
   "execution_count": null,
   "id": "7589e536-6b78-41cb-83a7-a03f9ac56376",
   "metadata": {},
   "outputs": [
    {
     "name": "stdin",
     "output_type": "stream",
     "text": [
      "Enter element: 1\n",
      "Enter element: 2\n",
      "Enter element: 3\n",
      "Enter element: 4\n",
      "Enter element: 5\n",
      "Enter element: 6\n",
      "Enter element: 7\n",
      "Enter element: 8\n"
     ]
    }
   ],
   "source": [
    "n=25\n",
    "l=[]\n",
    "l1=[]\n",
    "l2=[]\n",
    "sum=0\n",
    "for i in range(0,n):\n",
    "    ele=int(input(\"Enter element:\"))\n",
    "    sum+=ele\n",
    "    l.append(ele)\n",
    "mean=sum/n\n",
    "print(\"The mean is :\",mean)\n",
    "\n",
    "for i in range(1,6):\n",
    "    l1[i]=l[i-1:i+4]\n",
    "    l2.append(l1)\n",
    "print(l2)\n",
    "\n",
    "\n",
    "l.sort()\n",
    "median=l[n//2]\n",
    "print(\"Median is :\",median)\n",
    "\n",
    "max_list=[]\n",
    "d={}\n",
    "for i in l:\n",
    "    d[i]=d.get(i,0)+1\n",
    "max_val=max(d.values())\n",
    "for key in d.keys():\n",
    "    if d[key]==max_val:\n",
    "        max_list.append(key)\n",
    "\n",
    "print(\"The mode is/are :\",max_list)\n",
    "\n",
    "\n",
    "    \n",
    "    \n"
   ]
  },
  {
   "cell_type": "code",
   "execution_count": null,
   "id": "fd7a4b48-21a3-4de4-ba38-e8c8bcd0aa27",
   "metadata": {},
   "outputs": [],
   "source": []
  }
 ],
 "metadata": {
  "kernelspec": {
   "display_name": "Python 3 (ipykernel)",
   "language": "python",
   "name": "python3"
  },
  "language_info": {
   "codemirror_mode": {
    "name": "ipython",
    "version": 3
   },
   "file_extension": ".py",
   "mimetype": "text/x-python",
   "name": "python",
   "nbconvert_exporter": "python",
   "pygments_lexer": "ipython3",
   "version": "3.12.4"
  }
 },
 "nbformat": 4,
 "nbformat_minor": 5
}
