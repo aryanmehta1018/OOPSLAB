{
 "cells": [
  {
   "cell_type": "code",
   "execution_count": 1,
   "id": "9d67225d-b637-4252-9685-f41a679e5caa",
   "metadata": {},
   "outputs": [
    {
     "name": "stdout",
     "output_type": "stream",
     "text": [
      "Original list: [1, 2, 3, 4, 5]\n",
      "\n",
      "New list: [3, 6, 9, 12, 15]\n"
     ]
    }
   ],
   "source": [
    "def triple(n):\n",
    "    return n*3\n",
    "l=[1,2,3,4,5]\n",
    "tripled=list(map(triple,l))\n",
    "print(\"Original list:\",l)\n",
    "print(\"\\nNew list:\",tripled)"
   ]
  },
  {
   "cell_type": "code",
   "execution_count": 7,
   "id": "34c4309c-fdd7-4b82-8283-1074b4ab3dfb",
   "metadata": {},
   "outputs": [
    {
     "name": "stdout",
     "output_type": "stream",
     "text": [
      "Original list:\n",
      "[1, 2, 3]\n",
      "[4, 5, 6]\n",
      "[7, 8, 9]\n",
      "\n",
      "New list after adding above three lists:\n",
      "[12, 15, 18]\n"
     ]
    }
   ],
   "source": [
    "nums1 = [1, 2, 3]\n",
    "nums2 = [4, 5, 6]\n",
    "nums3 = [7, 8, 9]\n",
    "\n",
    "print(\"Original list:\")\n",
    "print(nums1)\n",
    "print(nums2)\n",
    "print(nums3)\n",
    "\n",
    "result = map(lambda x, y, z: x + y + z, nums1, nums2, nums3)\n",
    "\n",
    "print(\"\\nNew list after adding above three lists:\")\n",
    "print(list(result))"
   ]
  },
  {
   "cell_type": "code",
   "execution_count": 11,
   "id": "558dbe5c-8624-407b-b3ef-e2410163b02b",
   "metadata": {},
   "outputs": [
    {
     "name": "stdout",
     "output_type": "stream",
     "text": [
      "Original list:\n",
      "\n",
      "['Red', 'Green', 'Blue']\n",
      "New list:\n",
      "\n",
      "[['R', 'e', 'd'], ['G', 'r', 'e', 'e', 'n'], ['B', 'l', 'u', 'e']]\n"
     ]
    }
   ],
   "source": [
    "colour=[\"Red\",\"Green\",\"Blue\"]\n",
    "print(\"Original list:\\n\")\n",
    "print(colour)\n",
    "new=map(list,colour)\n",
    "print(\"New list:\\n\")\n",
    "print(list(new))"
   ]
  },
  {
   "cell_type": "code",
   "execution_count": 15,
   "id": "73e4530c-79cf-49bd-98d0-cdacb865b055",
   "metadata": {},
   "outputs": [
    {
     "name": "stdout",
     "output_type": "stream",
     "text": [
      "Original list:\n",
      "[5, 7, 4, 9, 8]\n",
      "New list:\n",
      "[1, 7, 16, 729, 4096]\n"
     ]
    }
   ],
   "source": [
    "base=[5,7,4,9,8]\n",
    "index=[]\n",
    "for i in range(len(base)):\n",
    "    index.append(i)\n",
    "print(\"Original list:\")\n",
    "print(base)\n",
    "new=map(lambda x,y:x**y,base,index)\n",
    "print(\"New list:\")\n",
    "print(list(new))"
   ]
  },
  {
   "cell_type": "code",
   "execution_count": 17,
   "id": "a7daff0b-ed14-4ad2-8637-6f566dfd9a15",
   "metadata": {},
   "outputs": [
    {
     "name": "stdout",
     "output_type": "stream",
     "text": [
      "Original list:\n",
      "[3, 5, 8, 6, 2, 9]\n",
      "New list:\n",
      "[9, 25, 64, 36, 4, 81]\n"
     ]
    }
   ],
   "source": [
    "def square(n):\n",
    "    return n*n\n",
    "l=[3,5,8,6,2,9]\n",
    "print(\"Original list:\")\n",
    "print(l)\n",
    "new=map(square,l)\n",
    "print(\"New list:\")\n",
    "print(list(new))\n"
   ]
  },
  {
   "cell_type": "code",
   "execution_count": 19,
   "id": "9724eee6-4352-43b3-b6d9-dbdcdd01f07c",
   "metadata": {},
   "outputs": [
    {
     "name": "stdout",
     "output_type": "stream",
     "text": [
      "Original Characters:\n",
      " {'i', 'U', 'b', 'o', 'E', 'a', 'f'}\n",
      "\n",
      "After converting above characters in upper and lower cases\n",
      "and eliminating duplicate letters:\n",
      "{('B', 'b'), ('A', 'a'), ('I', 'i'), ('U', 'u'), ('E', 'e'), ('F', 'f'), ('O', 'o')}\n"
     ]
    }
   ],
   "source": [
    "def change_cases(s):\n",
    "    return str(s).upper(), str(s).lower()\n",
    "\n",
    "chrars = {'a', 'b', 'E', 'f', 'a', 'i', 'o', 'U', 'a'}\n",
    "\n",
    "print(\"Original Characters:\\n\", chrars)\n",
    "\n",
    "result = map(change_cases, chrars)\n",
    "\n",
    "print(\"\\nAfter converting above characters in upper and lower cases\\nand eliminating duplicate letters:\")\n",
    "\n",
    "print(set(result))"
   ]
  },
  {
   "cell_type": "code",
   "execution_count": 23,
   "id": "41fd36a0-671d-4d78-96d7-7033efe4c51b",
   "metadata": {},
   "outputs": [
    {
     "name": "stdout",
     "output_type": "stream",
     "text": [
      "Original lists:\n",
      "[20, 16, 14, 24, 12]\n",
      "[5, 6, 7, 8, 9]\n",
      "After adding them:\n",
      "[25, 22, 21, 32, 21]\n",
      "After subtracting them:\n",
      "[15, 10, 7, 16, 3]\n"
     ]
    }
   ],
   "source": [
    "l1=[20,16,14,24,12]\n",
    "l2=[5,6,7,8,9]\n",
    "print(\"Original lists:\")\n",
    "print(l1)\n",
    "print(l2)\n",
    "new=map(lambda x,y:x+y,l1,l2)\n",
    "print(\"After adding them:\")\n",
    "print(list(new))\n",
    "new1=map(lambda x,y:x-y,l1,l2)\n",
    "print(\"After subtracting them:\")\n",
    "print(list(new1))"
   ]
  },
  {
   "cell_type": "code",
   "execution_count": 25,
   "id": "78ce7752-8da2-47f7-989e-7fe15eb9840b",
   "metadata": {},
   "outputs": [
    {
     "name": "stdout",
     "output_type": "stream",
     "text": [
      "Original list and tuple:\n",
      "[1, 2, 3, 4]\n",
      "(0, 1, 2, 3)\n",
      "\n",
      "List of strings:\n",
      "['1', '2', '3', '4']\n",
      "\n",
      "Tuple of strings:\n",
      "('0', '1', '2', '3')\n"
     ]
    }
   ],
   "source": [
    "nums_list = [1, 2, 3, 4]\n",
    "nums_tuple = (0, 1, 2, 3)\n",
    "print(\"Original list and tuple:\")\n",
    "print(nums_list)\n",
    "print(nums_tuple)\n",
    "result_list = list(map(str, nums_list))\n",
    "result_tuple = tuple(map(str, nums_tuple))\n",
    "print(\"\\nList of strings:\")\n",
    "print(result_list)\n",
    "print(\"\\nTuple of strings:\")\n",
    "print(result_tuple)"
   ]
  },
  {
   "cell_type": "code",
   "execution_count": 27,
   "id": "7dc1715c-462c-4278-a734-799f244b91f9",
   "metadata": {},
   "outputs": [
    {
     "name": "stdout",
     "output_type": "stream",
     "text": [
      "Original data:\n",
      "[('Alberto Franco', '15/05/2002', '35kg'), ('Gino Mcneill', '17/05/2002', '37kg'), ('Ryan Parkes', '16/02/1999', '39kg'), ('Eesha Hinton', '25/09/1998', '35kg')]\n",
      "\n",
      "Student name:\n",
      "['Alberto Franco', 'Gino Mcneill', 'Ryan Parkes', 'Eesha Hinton']\n",
      "Student date of birth:\n",
      "['15/05/2002', '17/05/2002', '16/02/1999', '25/09/1998']\n",
      "Student weight:\n",
      "[35, 37, 39, 35]\n"
     ]
    }
   ],
   "source": [
    "student_data  = [('Alberto Franco','15/05/2002','35kg'), ('Gino Mcneill','17/05/2002','37kg'), ('Ryan Parkes','16/02/1999', '39kg'), ('Eesha Hinton','25/09/1998', '35kg')]\n",
    "print(\"Original data:\")\n",
    "print(student_data)\n",
    "students_data_name = list(map(lambda x: x[0], student_data))\n",
    "students_data_dob = list(map(lambda x: x[1], student_data))\n",
    "students_data_weight = list(map(lambda x: int(x[2][:-2]), student_data))\n",
    "print(\"\\nStudent name:\")\n",
    "print(students_data_name)\n",
    "print(\"Student date of birth:\")\n",
    "print(students_data_dob)\n",
    "print(\"Student weight:\")\n",
    "print(students_data_weight)"
   ]
  },
  {
   "cell_type": "code",
   "execution_count": 31,
   "id": "44a85c9d-874d-4caf-b756-4bc9d4938c19",
   "metadata": {},
   "outputs": [
    {
     "name": "stdin",
     "output_type": "stream",
     "text": [
      "How many terms?  7\n"
     ]
    },
    {
     "name": "stdout",
     "output_type": "stream",
     "text": [
      "Fibonacci sequence:\n",
      "0\n",
      "1\n",
      "1\n",
      "2\n",
      "3\n",
      "5\n",
      "8\n",
      "Squaring the sequence:\n",
      "[0, 1, 1, 4, 9, 25, 64]\n"
     ]
    }
   ],
   "source": [
    "nterms = int(input(\"How many terms? \"))\n",
    "n1, n2 = 0, 1\n",
    "l1=[]\n",
    "count = 0\n",
    "if nterms <= 0:\n",
    "    print(\"Please enter a positive integer\")\n",
    "elif nterms == 1:\n",
    "    print(\"Fibonacci sequence upto\",nterms,\":\")\n",
    "    print(n1)\n",
    "    l1.append(n1)\n",
    "    \n",
    "else:\n",
    "    print(\"Fibonacci sequence:\")\n",
    "    while count < nterms:\n",
    "        print(n1)\n",
    "        l1.append(n1)\n",
    "        nth = n1 + n2\n",
    "        n1 = n2\n",
    "        n2 = nth\n",
    "        count += 1\n",
    "def square(n):\n",
    "    return n*n\n",
    "new=map(square,l1)\n",
    "print(\"Squaring the sequence:\")\n",
    "print(list(new))"
   ]
  },
  {
   "cell_type": "code",
   "execution_count": 37,
   "id": "34cbf52c-806f-423d-b15d-64ae0a55221e",
   "metadata": {},
   "outputs": [
    {
     "name": "stdout",
     "output_type": "stream",
     "text": [
      "Original array: array('i', [1, 2, 3, 4, 5, -15])\n",
      "Sum of all elements of the said array:\n",
      "0\n"
     ]
    }
   ],
   "source": [
    "from array import array\n",
    "def array_sum(nums_arr):\n",
    "    sum_n = 0\n",
    "    for n in nums_arr:\n",
    "        sum_n += n\n",
    "    return sum_n\n",
    "nums = array('i',[1, 2, 3, 4, 5, -15])\n",
    "print(\"Original array:\", nums)\n",
    "nums_arr = list(map(int, nums))\n",
    "result = array_sum(nums_arr)\n",
    "print(\"Sum of all elements of the said array:\")\n",
    "print(result)"
   ]
  },
  {
   "cell_type": "code",
   "execution_count": null,
   "id": "e7d81269-af1f-4319-87ae-ab3c371c8e87",
   "metadata": {},
   "outputs": [],
   "source": []
  }
 ],
 "metadata": {
  "kernelspec": {
   "display_name": "Python 3 (ipykernel)",
   "language": "python",
   "name": "python3"
  },
  "language_info": {
   "codemirror_mode": {
    "name": "ipython",
    "version": 3
   },
   "file_extension": ".py",
   "mimetype": "text/x-python",
   "name": "python",
   "nbconvert_exporter": "python",
   "pygments_lexer": "ipython3",
   "version": "3.12.4"
  }
 },
 "nbformat": 4,
 "nbformat_minor": 5
}
